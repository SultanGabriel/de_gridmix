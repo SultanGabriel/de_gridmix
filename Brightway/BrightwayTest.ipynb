{
 "cells": [
  {
   "cell_type": "code",
   "execution_count": 3,
   "id": "31e70186",
   "metadata": {},
   "outputs": [
    {
     "name": "stdout",
     "output_type": "stream",
     "text": [
      "Reading unencrypted IAM output files.\n",
      "premise v.(2, 2, 7)\n",
      "+------------------------------------------------------------------+\n",
      "| Warning                                                          |\n",
      "+------------------------------------------------------------------+\n",
      "| Because some of the scenarios can yield LCI databases            |\n",
      "| containing net negative emission technologies (NET),             |\n",
      "| it is advised to account for biogenic CO2 flows when calculating |\n",
      "| Global Warming potential indicators.                             |\n",
      "| `premise_gwp` provides characterization factors for such flows.  |\n",
      "| It also provides factors for hydrogen emissions to air.          |\n",
      "|                                                                  |\n",
      "| Within your bw2 project:                                         |\n",
      "| from premise_gwp import add_premise_gwp                          |\n",
      "| add_premise_gwp()                                                |\n",
      "+------------------------------------------------------------------+\n",
      "+--------------------------------+----------------------------------+\n",
      "| Utils functions                | Description                      |\n",
      "+--------------------------------+----------------------------------+\n",
      "| clear_cache()                  | Clears the cache folder. Useful  |\n",
      "|                                | when updating `premise`or        |\n",
      "|                                | encountering issues with         |\n",
      "|                                | inventories.                     |\n",
      "+--------------------------------+----------------------------------+\n",
      "| get_regions_definition(model)  | Retrieves the list of countries  |\n",
      "|                                | for each region of the model.    |\n",
      "+--------------------------------+----------------------------------+\n",
      "| ndb.NewDatabase(...)           | Generates a summary of the most  |\n",
      "| ndb.generate_scenario_report() | important scenarios' variables.  |\n",
      "+--------------------------------+----------------------------------+\n",
      "Keep uncertainty data?\n",
      "NewDatabase(..., keep_source_db_uncertainty=True), keep_imports_uncertainty=True)\n",
      "\n",
      "Hide these messages?\n",
      "NewDatabase(..., quiet=True)\n",
      "External scenarios should now be given as part of the scenarios list. E.g., {'external scenarios': ['scenario': 'A', 'data': datapackage]}\n",
      "- Extracting source database\n",
      "Cannot find cached database. Will create one now for next time...\n",
      "Getting activity data\n"
     ]
    },
    {
     "name": "stderr",
     "output_type": "stream",
     "text": [
      "100%|██████████| 2/2 [00:00<?, ?it/s]\n"
     ]
    },
    {
     "name": "stdout",
     "output_type": "stream",
     "text": [
      "Adding exchange data to activities\n"
     ]
    },
    {
     "name": "stderr",
     "output_type": "stream",
     "text": [
      "0it [00:00, ?it/s]\n"
     ]
    },
    {
     "name": "stdout",
     "output_type": "stream",
     "text": [
      "Filling out exchange data\n"
     ]
    },
    {
     "name": "stderr",
     "output_type": "stream",
     "text": [
      "100%|██████████| 2/2 [00:00<?, ?it/s]\n"
     ]
    },
    {
     "ename": "AttributeError",
     "evalue": "'NoneType' object has no attribute 'strip'",
     "output_type": "error",
     "traceback": [
      "\u001b[1;31m---------------------------------------------------------------------------\u001b[0m",
      "\u001b[1;31mAttributeError\u001b[0m                            Traceback (most recent call last)",
      "Cell \u001b[1;32mIn[3], line 97\u001b[0m\n\u001b[0;32m     93\u001b[0m iam_df \u001b[38;5;241m=\u001b[39m IamDataFrame(df)\n\u001b[0;32m     96\u001b[0m \u001b[38;5;66;03m# Init Database\u001b[39;00m\n\u001b[1;32m---> 97\u001b[0m db \u001b[38;5;241m=\u001b[39m \u001b[43mNewDatabase\u001b[49m\u001b[43m(\u001b[49m\n\u001b[0;32m     98\u001b[0m \u001b[43m    \u001b[49m\u001b[43mscenarios\u001b[49m\u001b[38;5;241;43m=\u001b[39;49m\u001b[43m[\u001b[49m\u001b[43m{\u001b[49m\n\u001b[0;32m     99\u001b[0m \u001b[43m        \u001b[49m\u001b[38;5;124;43m\"\u001b[39;49m\u001b[38;5;124;43mmodel\u001b[39;49m\u001b[38;5;124;43m\"\u001b[39;49m\u001b[43m:\u001b[49m\u001b[43m \u001b[49m\u001b[38;5;124;43m\"\u001b[39;49m\u001b[38;5;124;43mremind\u001b[39;49m\u001b[38;5;124;43m\"\u001b[39;49m\u001b[43m,\u001b[49m\n\u001b[0;32m    100\u001b[0m \u001b[43m        \u001b[49m\u001b[38;5;124;43m\"\u001b[39;49m\u001b[38;5;124;43mpathway\u001b[39;49m\u001b[38;5;124;43m\"\u001b[39;49m\u001b[43m:\u001b[49m\u001b[43m \u001b[49m\u001b[38;5;124;43m\"\u001b[39;49m\u001b[38;5;124;43mSSP2-Base\u001b[39;49m\u001b[38;5;124;43m\"\u001b[39;49m\u001b[43m,\u001b[49m\n\u001b[0;32m    101\u001b[0m \u001b[43m        \u001b[49m\u001b[38;5;124;43m\"\u001b[39;49m\u001b[38;5;124;43myear\u001b[39;49m\u001b[38;5;124;43m\"\u001b[39;49m\u001b[43m:\u001b[49m\u001b[43m \u001b[49m\u001b[38;5;241;43m2030\u001b[39;49m\u001b[43m,\u001b[49m\n\u001b[0;32m    102\u001b[0m \u001b[43m        \u001b[49m\u001b[38;5;124;43m\"\u001b[39;49m\u001b[38;5;124;43miam_data\u001b[39;49m\u001b[38;5;124;43m\"\u001b[39;49m\u001b[43m:\u001b[49m\u001b[43m \u001b[49m\u001b[43miam_df\u001b[49m\n\u001b[0;32m    103\u001b[0m \u001b[43m    \u001b[49m\u001b[43m}\u001b[49m\u001b[43m]\u001b[49m\u001b[43m,\u001b[49m\n\u001b[0;32m    104\u001b[0m \u001b[43m    \u001b[49m\u001b[43msource_db\u001b[49m\u001b[38;5;241;43m=\u001b[39;49m\u001b[43mSOURCE_DB_NAME\u001b[49m\u001b[43m,\u001b[49m\n\u001b[0;32m    105\u001b[0m \u001b[43m    \u001b[49m\u001b[43mbiosphere_name\u001b[49m\u001b[38;5;241;43m=\u001b[39;49m\u001b[38;5;124;43m\"\u001b[39;49m\u001b[38;5;124;43mbiosphere3\u001b[39;49m\u001b[38;5;124;43m\"\u001b[39;49m\u001b[43m,\u001b[49m\n\u001b[0;32m    106\u001b[0m \u001b[43m    \u001b[49m\u001b[43mexternal_scenarios\u001b[49m\u001b[38;5;241;43m=\u001b[39;49m\u001b[43m[\u001b[49m\u001b[43mCUSTOM_SCENARIOS\u001b[49m\u001b[43m]\u001b[49m\n\u001b[0;32m    107\u001b[0m \u001b[43m)\u001b[49m\n",
      "File \u001b[1;32m~\\AppData\\Roaming\\Python\\Python311\\site-packages\\premise\\new_database.py:602\u001b[0m, in \u001b[0;36mNewDatabase.__init__\u001b[1;34m(self, scenarios, source_version, source_type, key, source_db, source_file_path, additional_inventories, system_model, system_args, use_cached_inventories, use_cached_database, external_scenarios, quiet, keep_imports_uncertainty, keep_source_db_uncertainty, gains_scenario, use_absolute_efficiency, biosphere_name)\u001b[0m\n\u001b[0;32m    600\u001b[0m \u001b[38;5;28mprint\u001b[39m(\u001b[38;5;124m\"\u001b[39m\u001b[38;5;124m- Extracting source database\u001b[39m\u001b[38;5;124m\"\u001b[39m)\n\u001b[0;32m    601\u001b[0m \u001b[38;5;28;01mif\u001b[39;00m use_cached_database:\n\u001b[1;32m--> 602\u001b[0m     \u001b[38;5;28mself\u001b[39m\u001b[38;5;241m.\u001b[39mdatabase \u001b[38;5;241m=\u001b[39m \u001b[38;5;28;43mself\u001b[39;49m\u001b[38;5;241;43m.\u001b[39;49m\u001b[43m__find_cached_db\u001b[49m\u001b[43m(\u001b[49m\u001b[43msource_db\u001b[49m\u001b[43m)\u001b[49m\n\u001b[0;32m    603\u001b[0m \u001b[38;5;28;01melse\u001b[39;00m:\n\u001b[0;32m    604\u001b[0m     \u001b[38;5;28mself\u001b[39m\u001b[38;5;241m.\u001b[39mdatabase \u001b[38;5;241m=\u001b[39m \u001b[38;5;28mself\u001b[39m\u001b[38;5;241m.\u001b[39m__clean_database()\n",
      "File \u001b[1;32m~\\AppData\\Roaming\\Python\\Python311\\site-packages\\premise\\new_database.py:656\u001b[0m, in \u001b[0;36mNewDatabase.__find_cached_db\u001b[1;34m(self, db_name)\u001b[0m\n\u001b[0;32m    654\u001b[0m \u001b[38;5;28mprint\u001b[39m(\u001b[38;5;124m\"\u001b[39m\u001b[38;5;124mCannot find cached database. Will create one now for next time...\u001b[39m\u001b[38;5;124m\"\u001b[39m)\n\u001b[0;32m    655\u001b[0m clear_existing_cache()\n\u001b[1;32m--> 656\u001b[0m database \u001b[38;5;241m=\u001b[39m \u001b[38;5;28;43mself\u001b[39;49m\u001b[38;5;241;43m.\u001b[39;49m\u001b[43m__clean_database\u001b[49m\u001b[43m(\u001b[49m\u001b[43m)\u001b[49m\n\u001b[0;32m    657\u001b[0m pickle\u001b[38;5;241m.\u001b[39mdump(database, \u001b[38;5;28mopen\u001b[39m(file_name, \u001b[38;5;124m\"\u001b[39m\u001b[38;5;124mwb\u001b[39m\u001b[38;5;124m\"\u001b[39m))\n\u001b[0;32m    658\u001b[0m \u001b[38;5;28;01mreturn\u001b[39;00m database\n",
      "File \u001b[1;32m~\\AppData\\Roaming\\Python\\Python311\\site-packages\\premise\\new_database.py:705\u001b[0m, in \u001b[0;36mNewDatabase.__clean_database\u001b[1;34m(self)\u001b[0m\n\u001b[0;32m    699\u001b[0m \u001b[38;5;28;01mdef\u001b[39;00m \u001b[38;5;21m__clean_database\u001b[39m(\u001b[38;5;28mself\u001b[39m) \u001b[38;5;241m-\u001b[39m\u001b[38;5;241m>\u001b[39m List[\u001b[38;5;28mdict\u001b[39m]:\n\u001b[0;32m    700\u001b[0m \u001b[38;5;250m    \u001b[39m\u001b[38;5;124;03m\"\"\"\u001b[39;00m\n\u001b[0;32m    701\u001b[0m \u001b[38;5;124;03m    Extracts the ecoinvent database, loads it into a dictionary and does a little bit of housekeeping\u001b[39;00m\n\u001b[0;32m    702\u001b[0m \u001b[38;5;124;03m    (adds missing locations, reference products, etc.).\u001b[39;00m\n\u001b[0;32m    703\u001b[0m \u001b[38;5;124;03m    :return:\u001b[39;00m\n\u001b[0;32m    704\u001b[0m \u001b[38;5;124;03m    \"\"\"\u001b[39;00m\n\u001b[1;32m--> 705\u001b[0m     \u001b[38;5;28;01mreturn\u001b[39;00m \u001b[43mDatabaseCleaner\u001b[49m\u001b[43m(\u001b[49m\n\u001b[0;32m    706\u001b[0m \u001b[43m        \u001b[49m\u001b[38;5;28;43mself\u001b[39;49m\u001b[38;5;241;43m.\u001b[39;49m\u001b[43msource\u001b[49m\u001b[43m,\u001b[49m\u001b[43m \u001b[49m\u001b[38;5;28;43mself\u001b[39;49m\u001b[38;5;241;43m.\u001b[39;49m\u001b[43msource_type\u001b[49m\u001b[43m,\u001b[49m\u001b[43m \u001b[49m\u001b[38;5;28;43mself\u001b[39;49m\u001b[38;5;241;43m.\u001b[39;49m\u001b[43msource_file_path\u001b[49m\u001b[43m,\u001b[49m\u001b[43m \u001b[49m\u001b[38;5;28;43mself\u001b[39;49m\u001b[38;5;241;43m.\u001b[39;49m\u001b[43mversion\u001b[49m\n\u001b[0;32m    707\u001b[0m \u001b[43m    \u001b[49m\u001b[43m)\u001b[49m\u001b[38;5;241m.\u001b[39mprepare_datasets(\u001b[38;5;28mself\u001b[39m\u001b[38;5;241m.\u001b[39mkeep_source_db_uncertainty)\n",
      "File \u001b[1;32m~\\AppData\\Roaming\\Python\\Python311\\site-packages\\premise\\clean_datasets.py:205\u001b[0m, in \u001b[0;36mDatabaseCleaner.__init__\u001b[1;34m(self, source_db, source_type, source_file_path, version)\u001b[0m\n\u001b[0;32m    203\u001b[0m     \u001b[38;5;28mself\u001b[39m\u001b[38;5;241m.\u001b[39mdatabase \u001b[38;5;241m=\u001b[39m remove_categories(\u001b[38;5;28mself\u001b[39m\u001b[38;5;241m.\u001b[39mdatabase)\n\u001b[0;32m    204\u001b[0m     \u001b[38;5;66;03m# strip strings form spaces\u001b[39;00m\n\u001b[1;32m--> 205\u001b[0m     \u001b[38;5;28mself\u001b[39m\u001b[38;5;241m.\u001b[39mdatabase \u001b[38;5;241m=\u001b[39m \u001b[43mstrip_string_from_spaces\u001b[49m\u001b[43m(\u001b[49m\u001b[38;5;28;43mself\u001b[39;49m\u001b[38;5;241;43m.\u001b[39;49m\u001b[43mdatabase\u001b[49m\u001b[43m)\u001b[49m\n\u001b[0;32m    207\u001b[0m \u001b[38;5;28;01mif\u001b[39;00m source_type \u001b[38;5;241m==\u001b[39m \u001b[38;5;124m\"\u001b[39m\u001b[38;5;124mecospold\u001b[39m\u001b[38;5;124m\"\u001b[39m:\n\u001b[0;32m    208\u001b[0m     \u001b[38;5;66;03m# The ecospold data needs to be formatted\u001b[39;00m\n\u001b[0;32m    209\u001b[0m     ecoinvent \u001b[38;5;241m=\u001b[39m bw2io\u001b[38;5;241m.\u001b[39mSingleOutputEcospold2Importer(\n\u001b[0;32m    210\u001b[0m         \u001b[38;5;28mstr\u001b[39m(source_file_path), source_db, use_mp\u001b[38;5;241m=\u001b[39m\u001b[38;5;28;01mFalse\u001b[39;00m\n\u001b[0;32m    211\u001b[0m     )\n",
      "File \u001b[1;32m~\\AppData\\Roaming\\Python\\Python311\\site-packages\\premise\\clean_datasets.py:157\u001b[0m, in \u001b[0;36mstrip_string_from_spaces\u001b[1;34m(database)\u001b[0m\n\u001b[0;32m    154\u001b[0m \u001b[38;5;66;03m# also check for unicode characters like \\xa0\u001b[39;00m\n\u001b[0;32m    155\u001b[0m dataset[\u001b[38;5;124m\"\u001b[39m\u001b[38;5;124mname\u001b[39m\u001b[38;5;124m\"\u001b[39m] \u001b[38;5;241m=\u001b[39m dataset[\u001b[38;5;124m\"\u001b[39m\u001b[38;5;124mname\u001b[39m\u001b[38;5;124m\"\u001b[39m]\u001b[38;5;241m.\u001b[39mreplace(\u001b[38;5;124m\"\u001b[39m\u001b[38;5;130;01m\\xa0\u001b[39;00m\u001b[38;5;124m\"\u001b[39m, \u001b[38;5;124m\"\u001b[39m\u001b[38;5;124m\"\u001b[39m)\n\u001b[1;32m--> 157\u001b[0m dataset[\u001b[38;5;124m\"\u001b[39m\u001b[38;5;124mreference product\u001b[39m\u001b[38;5;124m\"\u001b[39m] \u001b[38;5;241m=\u001b[39m \u001b[43mdataset\u001b[49m\u001b[43m[\u001b[49m\u001b[38;5;124;43m\"\u001b[39;49m\u001b[38;5;124;43mreference product\u001b[39;49m\u001b[38;5;124;43m\"\u001b[39;49m\u001b[43m]\u001b[49m\u001b[38;5;241;43m.\u001b[39;49m\u001b[43mstrip\u001b[49m()\n\u001b[0;32m    158\u001b[0m dataset[\u001b[38;5;124m\"\u001b[39m\u001b[38;5;124mlocation\u001b[39m\u001b[38;5;124m\"\u001b[39m] \u001b[38;5;241m=\u001b[39m dataset[\u001b[38;5;124m\"\u001b[39m\u001b[38;5;124mlocation\u001b[39m\u001b[38;5;124m\"\u001b[39m]\u001b[38;5;241m.\u001b[39mstrip()\n\u001b[0;32m    159\u001b[0m \u001b[38;5;28;01mfor\u001b[39;00m exc \u001b[38;5;129;01min\u001b[39;00m dataset[\u001b[38;5;124m\"\u001b[39m\u001b[38;5;124mexchanges\u001b[39m\u001b[38;5;124m\"\u001b[39m]:\n",
      "\u001b[1;31mAttributeError\u001b[0m: 'NoneType' object has no attribute 'strip'"
     ]
    }
   ],
   "source": [
    "import pandas as pd\n",
    "from premise import NewDatabase\n",
    "from brightway2 import projects, databases, Database\n",
    "from pyam import IamDataFrame\n",
    "\n",
    "# CONFIGURATION \n",
    "CSV_PATH = \"out/DE_GRIDMIX_SCENARIO_02_PREDICTIONS.csv\"\n",
    "PROJECT_NAME = \"DE_GRIDMIX\"\n",
    "BIOSPHERE_NAME = \"biosphere3\"\n",
    "SOURCE_DB_NAME = \"TEST_DB\"\n",
    "\n",
    "# Add the hydron / waste generation technologies to the database\n",
    "CUSTOM_SCENARIOS = pd.DataFrame([\n",
    "    {\n",
    "        \"model\": \"custom\",\n",
    "        \"pathway\": \"Base\",\n",
    "        \"variable\": \"Electricity|Production|Hydrogen\",\n",
    "        \"name\": \"market group for hydrogen\",\n",
    "        \"unit\": \"kilowatt hour\",\n",
    "        \"location\": \"DE\"\n",
    "    },\n",
    "    {\n",
    "        \"model\": \"custom\",\n",
    "        \"pathway\": \"Base\",\n",
    "        \"variable\": \"Electricity|Production|Waste\",\n",
    "        \"name\": \"electricity production from municipal solid waste, incineration\",\n",
    "        \"unit\": \"kilowatt hour\",\n",
    "        \"location\": \"DE\"\n",
    "    }\n",
    "])\n",
    "\n",
    "# Set or create Brightway project\n",
    "if PROJECT_NAME not in projects:\n",
    "    projects.set_current(PROJECT_NAME)\n",
    "else:\n",
    "    projects.set_current(PROJECT_NAME)\n",
    "\n",
    "# Ensure biosphere3 is available\n",
    "if BIOSPHERE_NAME not in databases:\n",
    "    from bw2io import create_default_biosphere3\n",
    "    create_default_biosphere3()\n",
    "\n",
    "\n",
    "\n",
    "\n",
    "# === Ensure TEST_DB exists with dummy content ===\n",
    "if SOURCE_DB_NAME not in databases:\n",
    "    db = Database(SOURCE_DB_NAME)\n",
    "\n",
    "    def safe_str(val):\n",
    "        return str(val).strip() if val else \"\"\n",
    "\n",
    "    def make_dataset(name, ref_product, code):\n",
    "        return {\n",
    "            'name': safe_str(name),\n",
    "            'reference product': safe_str(ref_product),\n",
    "            'unit': safe_str('kilowatt hour'),\n",
    "            'location': safe_str('DE'),\n",
    "            'type': 'process',\n",
    "            'exchanges': [\n",
    "                {\n",
    "                    'input': (SOURCE_DB_NAME, code),\n",
    "                    'name': safe_str(\"dummy input\"),\n",
    "                    'reference product': safe_str(\"dummy input\"),\n",
    "                    'amount': 1,\n",
    "                    'unit': safe_str('kilowatt hour'),\n",
    "                    'location': safe_str('DE'),\n",
    "                    'type': 'technosphere',\n",
    "                }\n",
    "            ]\n",
    "        }\n",
    "\n",
    "\n",
    "    dummy_input = {\n",
    "        'name': safe_str('dummy input'),\n",
    "        'reference product': safe_str('dummy input'),\n",
    "        'unit': safe_str('kilowatt hour'),\n",
    "        'location': safe_str('DE'),\n",
    "        'type': 'process',\n",
    "        'exchanges': []\n",
    "    }\n",
    "\n",
    "    db.write({\n",
    "        (SOURCE_DB_NAME, \"dummy_input\"): dummy_input,\n",
    "        (SOURCE_DB_NAME, \"dummy_hydrogen\"): make_dataset(\"market group for hydrogen\", \"hydrogen\", \"dummy_input\"),\n",
    "        (SOURCE_DB_NAME, \"dummy_waste\"): make_dataset(\"electricity production from municipal solid waste, incineration\", \"electricity\", \"dummy_input\"),\n",
    "    })\n",
    "\n",
    "\n",
    "# Load scenario data \n",
    "df = pd.read_csv(CSV_PATH)\n",
    "# convert to Iam Dataframe\n",
    "iam_df = IamDataFrame(df)\n",
    "\n",
    "\n",
    "# Init Database\n",
    "db = NewDatabase(\n",
    "    scenarios=[{\n",
    "        \"model\": \"remind\",\n",
    "        \"pathway\": \"SSP2-Base\",\n",
    "        \"year\": 2030,\n",
    "        \"iam_data\": iam_df\n",
    "    }],\n",
    "    source_db=SOURCE_DB_NAME,\n",
    "    biosphere_name=\"biosphere3\",\n",
    "    external_scenarios=[CUSTOM_SCENARIOS]\n",
    ")\n"
   ]
  }
 ],
 "metadata": {
  "kernelspec": {
   "display_name": "Python 3",
   "language": "python",
   "name": "python3"
  },
  "language_info": {
   "codemirror_mode": {
    "name": "ipython",
    "version": 3
   },
   "file_extension": ".py",
   "mimetype": "text/x-python",
   "name": "python",
   "nbconvert_exporter": "python",
   "pygments_lexer": "ipython3",
   "version": "3.11.4"
  }
 },
 "nbformat": 4,
 "nbformat_minor": 5
}
