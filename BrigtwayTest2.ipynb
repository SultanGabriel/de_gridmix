{
 "cells": [
  {
   "cell_type": "code",
   "execution_count": 4,
   "id": "8c6fc436",
   "metadata": {},
   "outputs": [
    {
     "ename": "ValueError",
     "evalue": "Required source database 'ecoinvent 3.8 cutoff' not found in Brightway.",
     "output_type": "error",
     "traceback": [
      "\u001b[1;31m---------------------------------------------------------------------------\u001b[0m",
      "\u001b[1;31mValueError\u001b[0m                                Traceback (most recent call last)",
      "Cell \u001b[1;32mIn[4], line 42\u001b[0m\n\u001b[0;32m     40\u001b[0m \u001b[38;5;66;03m# Check if the source database exists \u001b[39;00m\n\u001b[0;32m     41\u001b[0m \u001b[38;5;28;01mif\u001b[39;00m SOURCE_DB_NAME \u001b[38;5;129;01mnot\u001b[39;00m \u001b[38;5;129;01min\u001b[39;00m databases:\n\u001b[1;32m---> 42\u001b[0m     \u001b[38;5;28;01mraise\u001b[39;00m \u001b[38;5;167;01mValueError\u001b[39;00m(\u001b[38;5;124mf\u001b[39m\u001b[38;5;124m\"\u001b[39m\u001b[38;5;124mRequired source database \u001b[39m\u001b[38;5;124m'\u001b[39m\u001b[38;5;132;01m{\u001b[39;00mSOURCE_DB_NAME\u001b[38;5;132;01m}\u001b[39;00m\u001b[38;5;124m'\u001b[39m\u001b[38;5;124m not found in Brightway.\u001b[39m\u001b[38;5;124m\"\u001b[39m)\n\u001b[0;32m     44\u001b[0m \u001b[38;5;66;03m# Load scenario CSV & convert to IamDataFrame \u001b[39;00m\n\u001b[0;32m     45\u001b[0m df \u001b[38;5;241m=\u001b[39m pd\u001b[38;5;241m.\u001b[39mread_csv(CSV_PATH)\n",
      "\u001b[1;31mValueError\u001b[0m: Required source database 'ecoinvent 3.8 cutoff' not found in Brightway."
     ]
    }
   ],
   "source": [
    "import pandas as pd\n",
    "from premise import NewDatabase\n",
    "from brightway2 import projects, databases\n",
    "from pyam import IamDataFrame\n",
    "\n",
    "# CONFIGURATION\n",
    "CSV_PATH = \"DE_GRIDMIX_SCENARIO_02_PREDICTIONS.csv\"\n",
    "PROJECT_NAME = \"DE_GRIDMIX\"\n",
    "SOURCE_DB_NAME = \"ecoinvent 3.8 cutoff\"\n",
    "BIOSPHERE_NAME = \"biosphere3\"\n",
    "\n",
    "# additional mappings for custom technologies, we'll have to check on this\n",
    "CUSTOM_SCENARIOS = pd.DataFrame([\n",
    "    {\n",
    "        \"model\": \"custom\",\n",
    "        \"pathway\": \"Base\",\n",
    "        \"variable\": \"Electricity|Production|Hydrogen\",\n",
    "        \"name\": \"market group for hydrogen\",\n",
    "        \"unit\": \"kilowatt hour\",\n",
    "        \"location\": \"DE\"\n",
    "    },\n",
    "    {\n",
    "        \"model\": \"custom\",\n",
    "        \"pathway\": \"Base\",\n",
    "        \"variable\": \"Electricity|Production|Waste\",\n",
    "        \"name\": \"electricity production from municipal solid waste, incineration\",\n",
    "        \"unit\": \"kilowatt hour\",\n",
    "        \"location\": \"DE\"\n",
    "    }\n",
    "])\n",
    "\n",
    "# Set or create Brightway2 project \n",
    "projects.set_current(PROJECT_NAME)\n",
    "\n",
    "# Ensure biosphere3 database exists\n",
    "if BIOSPHERE_NAME not in databases:\n",
    "    from bw2io import create_default_biosphere3\n",
    "    create_default_biosphere3()\n",
    "\n",
    "# Check if the source database exists \n",
    "if SOURCE_DB_NAME not in databases:\n",
    "    raise ValueError(f\"Required source database '{SOURCE_DB_NAME}' not found in Brightway.\")\n",
    "\n",
    "# Load scenario CSV & convert to IamDataFrame \n",
    "df = pd.read_csv(CSV_PATH)\n",
    "iam_df = IamDataFrame(df)\n",
    "\n",
    "# Initialize Premise database \n",
    "db = NewDatabase(\n",
    "    scenarios=[{\n",
    "        \"model\": \"remind\",\n",
    "        \"pathway\": \"SSP2-Base\",\n",
    "        \"year\": 2030,\n",
    "        \"iam_data\": iam_df\n",
    "    }],\n",
    "    source_db=SOURCE_DB_NAME,\n",
    "    biosphere_name=BIOSPHERE_NAME,\n",
    "    external_scenarios=[CUSTOM_SCENARIOS]\n",
    ")\n"
   ]
  }
 ],
 "metadata": {
  "kernelspec": {
   "display_name": "Python 3",
   "language": "python",
   "name": "python3"
  },
  "language_info": {
   "codemirror_mode": {
    "name": "ipython",
    "version": 3
   },
   "file_extension": ".py",
   "mimetype": "text/x-python",
   "name": "python",
   "nbconvert_exporter": "python",
   "pygments_lexer": "ipython3",
   "version": "3.11.4"
  }
 },
 "nbformat": 4,
 "nbformat_minor": 5
}
